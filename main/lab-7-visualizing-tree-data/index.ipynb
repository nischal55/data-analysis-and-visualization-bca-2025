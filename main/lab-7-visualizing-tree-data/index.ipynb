{
 "cells": [
  {
   "cell_type": "code",
   "execution_count": 1,
   "id": "73288dc4",
   "metadata": {},
   "outputs": [],
   "source": [
    "import networkx as nx\n",
    "import matplotlib.pyplot as plt\n",
    "import matplotlib.pyplot as plt\n",
    "from anytree import Node, RenderTree, AsciiStyle\n",
    "import squarify"
   ]
  },
  {
   "cell_type": "markdown",
   "id": "5fa3f04c",
   "metadata": {},
   "source": [
    "# Trees"
   ]
  },
  {
   "cell_type": "markdown",
   "id": "51931e5f",
   "metadata": {},
   "source": [
    "### Node link diagram (Classic tree)"
   ]
  },
  {
   "cell_type": "code",
   "execution_count": 2,
   "id": "9fdcc279",
   "metadata": {},
   "outputs": [
    {
     "name": "stderr",
     "output_type": "stream",
     "text": [
      "C:\\Users\\Ryzen\\AppData\\Local\\Temp\\ipykernel_10604\\43599690.py:48: UserWarning: This figure includes Axes that are not compatible with tight_layout, so results might be incorrect.\n",
      "  plt.tight_layout()\n"
     ]
    },
    {
     "data": {
      "image/png": "[encoded data removed]",
      "text/plain": [
       "<Figure size 800x600 with 1 Axes>"
      ]
     },
     "metadata": {},
     "output_type": "display_data"
    }
   ],
   "source": [
    "def hierarchy_pos(G, root, width=1., vert_gap=0.2, vert_loc=0, xcenter=0.5, pos=None, parent=None):\n",
    "    if pos is None:\n",
    "        pos = {root: (xcenter, vert_loc)}\n",
    "    else:\n",
    "        pos[root] = (xcenter, vert_loc)\n",
    "    children = list(G.neighbors(root))\n",
    "    if parent is not None:   # remove the edge back to parent\n",
    "        children.remove(parent)\n",
    "    if len(children) != 0:\n",
    "        dx = width / len(children)\n",
    "        nextx = xcenter - width/2 - dx/2\n",
    "        for child in children:\n",
    "            nextx += dx\n",
    "            pos = hierarchy_pos(G, child, width=dx, vert_gap=vert_gap,\n",
    "                                vert_loc=vert_loc-vert_gap, xcenter=nextx,\n",
    "                                pos=pos, parent=root)\n",
    "    return pos\n",
    "\n",
    "edges = [\n",
    "    (\"Root\", \"A\"),\n",
    "    (\"Root\", \"B\"),\n",
    "    (\"A\", \"A1\"),\n",
    "    (\"A\", \"A2\"),\n",
    "    (\"B\", \"B1\"),\n",
    "    (\"B\", \"B2\"),\n",
    "    (\"B2\", \"B2a\"),\n",
    "]\n",
    "\n",
    "T = nx.Graph()\n",
    "T.add_edges_from(edges)\n",
    "\n",
    "# 2) Compute positions with a top-down hierarchy\n",
    "pos = hierarchy_pos(T, root=\"Root\")\n",
    "\n",
    "# 3) Draw\n",
    "plt.figure(figsize=(8, 6))\n",
    "nx.draw(\n",
    "    T, pos,\n",
    "    with_labels=True,\n",
    "    node_size=2000,\n",
    "    node_color=\"lightblue\",\n",
    "    font_size=10,\n",
    "    font_weight=\"bold\",\n",
    "    edge_color=\"gray\"\n",
    ")\n",
    "plt.title(\"Node–Link Diagram of a Tree\")\n",
    "plt.axis(\"off\")\n",
    "plt.tight_layout()\n",
    "plt.show()"
   ]
  },
  {
   "cell_type": "markdown",
   "id": "d57a3f99",
   "metadata": {},
   "source": [
    "## This can be used to draw tree diagram for \n",
    "- Binary Trees\n",
    "- B and B+ Trees\n",
    "- Tries\n",
    "- Heap\n",
    "- Quad Tree\n",
    "etc"
   ]
  },
  {
   "cell_type": "markdown",
   "id": "409fe1a6",
   "metadata": {},
   "source": [
    "## Indented Tree"
   ]
  },
  {
   "cell_type": "code",
   "execution_count": 3,
   "id": "d8aa8d1d",
   "metadata": {},
   "outputs": [
    {
     "name": "stdout",
     "output_type": "stream",
     "text": [
      "Root\n",
      "|-- A\n",
      "|   |-- A1\n",
      "|   +-- A2\n",
      "+-- B\n",
      "    |-- B1\n",
      "    +-- B2\n",
      "        +-- B2a\n"
     ]
    }
   ],
   "source": [
    "# Using anytree\n",
    "root = Node(\"Root\")\n",
    "a    = Node(\"A\", parent=root)\n",
    "a1   = Node(\"A1\", parent=a)\n",
    "a2   = Node(\"A2\", parent=a)\n",
    "\n",
    "b    = Node(\"B\", parent=root)\n",
    "b1   = Node(\"B1\", parent=b)\n",
    "b2   = Node(\"B2\", parent=b)\n",
    "b2a  = Node(\"B2a\", parent=b2)\n",
    "\n",
    "for pre, fill, node in RenderTree(root, style=AsciiStyle()):\n",
    "    print(f\"{pre}{node.name}\")\n"
   ]
  },
  {
   "cell_type": "code",
   "execution_count": 4,
   "id": "4d117232",
   "metadata": {},
   "outputs": [
    {
     "name": "stdout",
     "output_type": "stream",
     "text": [
      "Root\n",
      "├── A\n",
      "│   ├── A1\n",
      "│   └── A2\n",
      "└── B\n",
      "    ├── B1\n",
      "    └── B2\n",
      "        └── B2a\n"
     ]
    }
   ],
   "source": [
    "# Custom implementation\n",
    "class TreeNode:\n",
    "    def __init__(self, name):\n",
    "        self.name = name\n",
    "        self.children = []\n",
    "\n",
    "    def add_child(self, node):\n",
    "        self.children.append(node)\n",
    "\n",
    "def render_tree(node, prefix=\"\", is_last=True, depth=0):\n",
    "    \"\"\"Recursively prints an ASCII tree with ├── and └── connectors.\"\"\"\n",
    "    if depth == 0:\n",
    "        # Root node, no connector\n",
    "        print(node.name)\n",
    "    else:\n",
    "        connector = \"└── \" if is_last else \"├── \"\n",
    "        print(prefix + connector + node.name)\n",
    "\n",
    "    # Prepare prefix for children\n",
    "    if depth > 0:\n",
    "        # extend existing prefix\n",
    "        prefix += \"    \" if is_last else \"│   \"\n",
    "    else:\n",
    "        # first level, start prefix fresh\n",
    "        prefix = \"\"\n",
    "\n",
    "    # Recurse into children\n",
    "    child_count = len(node.children)\n",
    "    for idx, child in enumerate(node.children):\n",
    "        is_last_child = (idx == child_count - 1)\n",
    "        render_tree(child, prefix, is_last_child, depth+1)\n",
    "\n",
    "# --- Build the toy tree ---\n",
    "root = TreeNode(\"Root\")\n",
    "\n",
    "a = TreeNode(\"A\")\n",
    "a.add_child(TreeNode(\"A1\"))\n",
    "a.add_child(TreeNode(\"A2\"))\n",
    "\n",
    "b = TreeNode(\"B\")\n",
    "b.add_child(TreeNode(\"B1\"))\n",
    "b2 = TreeNode(\"B2\")\n",
    "b2.add_child(TreeNode(\"B2a\"))\n",
    "b.add_child(b2)\n",
    "\n",
    "root.add_child(a)\n",
    "root.add_child(b)\n",
    "\n",
    "# --- Render it ---\n",
    "render_tree(root)\n"
   ]
  },
  {
   "cell_type": "markdown",
   "id": "22f9c295",
   "metadata": {},
   "source": [
    "Where to use this?\n",
    "\n",
    "Indented trees can be used to visualize Abstract Syntax Trees (AST). See below example where a simple custom l;language syntax is visualized\n",
    "\n",
    "Syntax\n",
    "\n",
    "`NODE <ARROW> NODE | NODE, NODE, ...NODE`\n",
    "\n",
    "Ex language:\n",
    "```\n",
    "A -> B\n",
    "B -> C, D\n",
    "C -> E\n",
    "```"
   ]
  },
  {
   "cell_type": "code",
   "execution_count": 13,
   "id": "f50c528d",
   "metadata": {},
   "outputs": [
    {
     "name": "stdout",
     "output_type": "stream",
     "text": [
      "ROOT\n",
      "|-- H\n",
      "|   +-- I\n",
      "+-- A\n",
      "    +-- B\n",
      "        +-- C\n",
      "            |-- D\n",
      "            |-- E\n",
      "            +-- F\n",
      "                +-- G\n"
     ]
    }
   ],
   "source": [
    "from anytree import Node, RenderTree, AsciiStyle\n",
    "\n",
    "def parse_rules(text):\n",
    "    \"\"\"\n",
    "    Parse lines like \"A -> B, C\" into a dict: { \"A\": [\"B\",\"C\"], ... }\n",
    "    \"\"\"\n",
    "    rules = {}\n",
    "    for line in text.strip().splitlines():\n",
    "        parent, kids = line.split(\"->\")\n",
    "        parent = parent.strip()\n",
    "        children = [c.strip() for c in kids.split(\",\") if c.strip()]\n",
    "        rules[parent] = children\n",
    "    return rules\n",
    "\n",
    "def find_roots(rules):\n",
    "    \"\"\"\n",
    "    Roots are nodes that never appear as children.\n",
    "    \"\"\"\n",
    "    all_nodes = set(rules)\n",
    "    children = {c for kids in rules.values() for c in kids}\n",
    "    return list(all_nodes - children)\n",
    "\n",
    "def build_tree(name, rules, parent=None):\n",
    "    \"\"\"\n",
    "    Recursively build an anytree Node hierarchy.\n",
    "    \"\"\"\n",
    "    node = Node(name, parent=parent)\n",
    "    for child in rules.get(name, []):\n",
    "        build_tree(child, rules, node)\n",
    "    return node\n",
    "\n",
    "if __name__ == \"__main__\":\n",
    "    src = \"\"\"\n",
    "    A -> B\n",
    "    B -> C\n",
    "    C -> D, E, F\n",
    "    F -> G\n",
    "    H -> I\n",
    "    \"\"\"\n",
    "    # 1) Parse the rule definitions\n",
    "    rules = parse_rules(src)\n",
    "\n",
    "    # 2) Find all top-level roots (forest heads)\n",
    "    roots = find_roots(rules)\n",
    "\n",
    "    # 3) Create a dummy super-root and hang each forest root under it\n",
    "    super_root = Node(\"ROOT\")\n",
    "    for rname in roots:\n",
    "        build_tree(rname, rules, super_root)\n",
    "\n",
    "    # 4) Render and print the combined tree\n",
    "    for pre, _, node in RenderTree(super_root, style=AsciiStyle()):\n",
    "        print(pre + node.name)\n"
   ]
  },
  {
   "cell_type": "markdown",
   "id": "6c8c0df2",
   "metadata": {},
   "source": [
    "A more concrete example would be building AST for showing how operations in BODMAS is done via a simple Calculator Parser\n",
    "\n",
    "Example\n",
    "for expression\n",
    "`(1 + 2) - 3 * (7 / 4 + (5 - 7))`\n",
    "\n",
    "The AST for pre-order traversal would be\n",
    "\n",
    "```txt\n",
    "-\n",
    "├── +\n",
    "│   ├── 1\n",
    "│   └── 2\n",
    "└── *\n",
    "    ├── 3\n",
    "    └── +\n",
    "        ├── /\n",
    "        │   ├── 7\n",
    "        │   └── 4\n",
    "        └── -\n",
    "            ├── 5\n",
    "            └── 7\n",
    "```\n",
    "Visualizing a math expression in this tree form will be your assignment."
   ]
  },
  {
   "cell_type": "markdown",
   "id": "e64f64ba",
   "metadata": {},
   "source": [
    "### Radial Tree"
   ]
  },
  {
   "cell_type": "code",
   "execution_count": 6,
   "id": "1e98c5b1",
   "metadata": {},
   "outputs": [
    {
     "data": {
      "image/png": "[encoded data removed]",
      "text/plain": [
       "<Figure size 800x600 with 1 Axes>"
      ]
     },
     "metadata": {},
     "output_type": "display_data"
    }
   ],
   "source": [
    "# 1. Example data: sales (in thousands) by department\n",
    "labels = [\n",
    "    \"Electronics\\n$500K\",\n",
    "    \"Clothing\\n$300K\",\n",
    "    \"Home & Kitchen\\n$150K\",\n",
    "    \"Toys\\n$80K\",\n",
    "    \"Books\\n$70K\"\n",
    "]\n",
    "sizes = [500, 300, 150, 80, 70]  # corresponding values\n",
    "colors = plt.cm.Set3(range(len(labels)))  # a colormap\n",
    "\n",
    "# 2. Plot the treemap\n",
    "plt.figure(figsize=(8, 6))\n",
    "squarify.plot(\n",
    "    sizes=sizes,\n",
    "    label=labels,\n",
    "    color=colors,\n",
    "    alpha=0.8,\n",
    "    text_kwargs={'fontsize':12}\n",
    ")\n",
    "plt.title(\"Treemap: Sales by Department (in $K)\")\n",
    "plt.axis('off')  # no axes for a cleaner look\n",
    "plt.show()"
   ]
  }
 ],
 "metadata": {
  "kernelspec": {
   "display_name": "venv",
   "language": "python",
   "name": "python3"
  },
  "language_info": {
   "codemirror_mode": {
    "name": "ipython",
    "version": 3
   },
   "file_extension": ".py",
   "mimetype": "text/x-python",
   "name": "python",
   "nbconvert_exporter": "python",
   "pygments_lexer": "ipython3",
   "version": "3.11.9"
  }
 },
 "nbformat": 4,
 "nbformat_minor": 5
}
